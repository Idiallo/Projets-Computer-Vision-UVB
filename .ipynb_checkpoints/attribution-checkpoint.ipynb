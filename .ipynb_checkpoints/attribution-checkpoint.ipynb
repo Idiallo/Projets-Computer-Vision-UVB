{
 "cells": [
  {
   "cell_type": "markdown",
   "metadata": {},
   "source": [
    "Le travail a faire:\n",
    "- Résumé du papier de deux pages maximum (obligatoire pour tous les groupes) \n",
    "- Entrainer la méthode avec le code fourni ou un autre code (obligatoire pour tous les groupes)\n",
    "- Comparer la méthode avec une méthode classique de la literrature. Justifier votre choix. (facultatif pour tous les groupes de moins de 3 personnes)\n",
    "- Proposer une démo et une possibilité d'amélioration de la méthode. (facultatif pour tous les groupes de moins de 4 personnes)"
   ]
  },
  {
   "cell_type": "code",
   "execution_count": 1,
   "metadata": {},
   "outputs": [],
   "source": [
    "import random\n"
   ]
  },
  {
   "cell_type": "code",
   "execution_count": 2,
   "metadata": {},
   "outputs": [],
   "source": [
    "random.seed(42)\n",
    "\n",
    "list_groups = [\n",
    "    \"Group 1\",\n",
    "    \"Group 2\",\n",
    "    \"Group 3\",\n",
    "    \"Group 4\",\n",
    "    \"Group 5\",\n",
    "    \"Group 6\",\n",
    "    \"Group 7\",\n",
    "]"
   ]
  },
  {
   "cell_type": "code",
   "execution_count": 3,
   "metadata": {},
   "outputs": [],
   "source": [
    "list_projets = {\n",
    "    'Superresolution' : {\n",
    "       'Paper title': 'ESRGAN: Enhanced Super-Resolution Generative Adversarial Networks',\n",
    "       'Code': 'https://github.com/xinntao/ESRGAN',\n",
    "       'Data': 'http://www.manga109.org/en/'\n",
    "    },\n",
    "    'PoseEstimation' : {\n",
    "       'Paper title': 'UniPose: Unified Human Pose Estimation in Single Images and Videos',\n",
    "       'Code': 'https://github.com/bmartacho/UniPose',\n",
    "       'Data': 'http://human-pose.mpi-inf.mpg.de/'\n",
    "    },\n",
    "    'ActivityRecognition':{\n",
    "        'Paper title': 'Quo Vadis, Action Recognition? A New Model and the Kinetics Datase',\n",
    "        'Code': 'https://github.com/piergiaj/pytorch-i3d',\n",
    "        'Data': 'http://vuchallenge.org/charades.html'\n",
    "    },\n",
    "    'SemanticSegmentation':{\n",
    "        'Paper title': 'PSANet: Point-wise Spatial Attention Network for Scene Parsing',\n",
    "        'Code': 'https://github.com/hszhao/PSANet',\n",
    "        'Data': 'https://www.cityscapes-dataset.com/dataset-overview/'\n",
    "    },\n",
    "    'FaceVerification':{\n",
    "        'Paper title': 'CosFace: Large Margin Cosine Loss for Deep Face Recognition',\n",
    "        'Code': 'https://github.com/cvqluu/Angular-Penalty-Softmax-Losses-Pytorch',\n",
    "        'Data': 'http://vis-www.cs.umass.edu/lfw/'\n",
    "    },\n",
    "    'MedicalImageSegmentation':{\n",
    "        'Paper title': 'U-Net: Convolutional Networks for Biomedical Image Segmentation',\n",
    "        'Code': 'https://github.com/milesial/Pytorch-UNet',\n",
    "        'Data': 'https://polyp.grand-challenge.org/CVCClinicDB/'\n",
    "    },\n",
    "    'ImageClassification':{\n",
    "        'Paper title': 'Fast AutoAugment',\n",
    "        'Code': 'https://github.com/kakaobrain/fast-autoaugment',\n",
    "        'Data' : 'https://image-net.org/update-mar-11-2021.php'\n",
    "    }\n",
    "}"
   ]
  },
  {
   "cell_type": "code",
   "execution_count": 4,
   "metadata": {},
   "outputs": [],
   "source": [
    "for project_name in list_projets.keys():\n",
    "    group_name = random.choice(list_groups)\n",
    "    list_groups.remove(group_name)\n",
    "    list_projets[project_name]['group_name'] = group_name\n",
    "    \n",
    "    "
   ]
  },
  {
   "cell_type": "code",
   "execution_count": 5,
   "metadata": {},
   "outputs": [
    {
     "name": "stdout",
     "output_type": "stream",
     "text": [
      "Nom projet : Superresolution\n",
      "Nom du group: Group 6\n",
      "Exemple de code: https://github.com/xinntao/ESRGAN\n",
      "Dataset: http://www.manga109.org/en/\n",
      "------------------------------------\n",
      "\n",
      "Nom projet : PoseEstimation\n",
      "Nom du group: Group 1\n",
      "Exemple de code: https://github.com/bmartacho/UniPose\n",
      "Dataset: http://human-pose.mpi-inf.mpg.de/\n",
      "------------------------------------\n",
      "\n",
      "Nom projet : ActivityRecognition\n",
      "Nom du group: Group 2\n",
      "Exemple de code: https://github.com/piergiaj/pytorch-i3d\n",
      "Dataset: http://vuchallenge.org/charades.html\n",
      "------------------------------------\n",
      "\n",
      "Nom projet : SemanticSegmentation\n",
      "Nom du group: Group 5\n",
      "Exemple de code: https://github.com/hszhao/PSANet\n",
      "Dataset: https://www.cityscapes-dataset.com/dataset-overview/\n",
      "------------------------------------\n",
      "\n",
      "Nom projet : FaceVerification\n",
      "Nom du group: Group 3\n",
      "Exemple de code: https://github.com/cvqluu/Angular-Penalty-Softmax-Losses-Pytorch\n",
      "Dataset: http://vis-www.cs.umass.edu/lfw/\n",
      "------------------------------------\n",
      "\n",
      "Nom projet : MedicalImageSegmentation\n",
      "Nom du group: Group 4\n",
      "Exemple de code: https://github.com/milesial/Pytorch-UNet\n",
      "Dataset: https://polyp.grand-challenge.org/CVCClinicDB/\n",
      "------------------------------------\n",
      "\n",
      "Nom projet : ImageClassification\n",
      "Nom du group: Group 7\n",
      "Exemple de code: https://github.com/kakaobrain/fast-autoaugment\n",
      "Dataset: https://image-net.org/update-mar-11-2021.php\n",
      "------------------------------------\n",
      "\n"
     ]
    }
   ],
   "source": [
    "for project_name in list_projets.keys():\n",
    "    print('Nom projet : {}'.format(project_name))\n",
    "    print('Nom du group: {}'.format(list_projets[project_name]['group_name']))\n",
    "    print('Exemple de code: {}'.format(list_projets[project_name]['Code']))\n",
    "    print('Dataset: {}'.format(list_projets[project_name]['Data']))\n",
    "    print('------------------------------------\\n')\n",
    "    "
   ]
  },
  {
   "cell_type": "code",
   "execution_count": null,
   "metadata": {},
   "outputs": [],
   "source": []
  }
 ],
 "metadata": {
  "interpreter": {
   "hash": "254d33eddf9909c17ae0bd8580b9cec0702570575b257212919c02ac076e8718"
  },
  "kernelspec": {
   "display_name": "Python 3 (ipykernel)",
   "language": "python",
   "name": "python3"
  },
  "language_info": {
   "codemirror_mode": {
    "name": "ipython",
    "version": 3
   },
   "file_extension": ".py",
   "mimetype": "text/x-python",
   "name": "python",
   "nbconvert_exporter": "python",
   "pygments_lexer": "ipython3",
   "version": "3.8.12"
  }
 },
 "nbformat": 4,
 "nbformat_minor": 2
}
